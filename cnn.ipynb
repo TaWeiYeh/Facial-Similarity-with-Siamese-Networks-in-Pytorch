{
 "cells": [
  {
   "cell_type": "markdown",
   "metadata": {},
   "source": [
    "# Test transfer learning from Siamese Network to CNN only"
   ]
  },
  {
   "cell_type": "markdown",
   "metadata": {},
   "source": [
    "## Imports"
   ]
  },
  {
   "cell_type": "code",
   "execution_count": 1,
   "metadata": {},
   "outputs": [],
   "source": [
    "%matplotlib inline\n",
    "import torchvision\n",
    "import torchvision.datasets as dset\n",
    "import torchvision.transforms as transforms\n",
    "from torch.utils.data import DataLoader,Dataset\n",
    "import matplotlib.pyplot as plt\n",
    "import torchvision.utils\n",
    "import numpy as np\n",
    "import random\n",
    "from PIL import Image\n",
    "import torch\n",
    "from torch.autograd import Variable\n",
    "import PIL.ImageOps    \n",
    "import torch.nn as nn\n",
    "from torch import optim\n",
    "import torch.nn.functional as F"
   ]
  },
  {
   "cell_type": "markdown",
   "metadata": {},
   "source": [
    "## Helper functions"
   ]
  },
  {
   "cell_type": "code",
   "execution_count": 2,
   "metadata": {},
   "outputs": [],
   "source": [
    "def imshow(img,text=None,should_save=False):\n",
    "    npimg = img.numpy()\n",
    "    plt.axis(\"off\")\n",
    "    if text:\n",
    "        plt.text(75, 8, text, style='italic',fontweight='bold',\n",
    "            bbox={'facecolor':'white', 'alpha':0.8, 'pad':10})\n",
    "    plt.imshow(np.transpose(npimg, (1, 2, 0)))\n",
    "    plt.show()    \n",
    "\n",
    "def show_plot(iteration,loss):\n",
    "    plt.plot(iteration,loss)\n",
    "    plt.show()"
   ]
  },
  {
   "cell_type": "markdown",
   "metadata": {},
   "source": [
    "## Configuration Class"
   ]
  },
  {
   "cell_type": "code",
   "execution_count": 3,
   "metadata": {},
   "outputs": [],
   "source": [
    "class Config():\n",
    "    training_dir = \"./data/faces_cnn/training/\"\n",
    "    # testing_dir = \"./data/faces/testing/\"\n",
    "    train_batch_size = 64\n",
    "    train_number_epochs = 100"
   ]
  },
  {
   "cell_type": "markdown",
   "metadata": {},
   "source": [
    "## Custom Dataset Class"
   ]
  },
  {
   "cell_type": "code",
   "execution_count": 4,
   "metadata": {},
   "outputs": [],
   "source": [
    "class CNNDataset(Dataset):\n",
    "    \n",
    "    def __init__(self,imageFolderDataset,transform=None,should_invert=True):\n",
    "        self.imageFolderDataset = imageFolderDataset    \n",
    "        self.transform = transform\n",
    "        self.should_invert = should_invert\n",
    "        \n",
    "    def __getitem__(self,index):\n",
    "        img0_tuple = random.choice(self.imageFolderDataset.imgs)\n",
    "\n",
    "        img0 = Image.open(img0_tuple[0])\n",
    "        img0 = img0.convert(\"L\")\n",
    "        \n",
    "        if self.should_invert:\n",
    "            img0 = PIL.ImageOps.invert(img0)\n",
    "\n",
    "        if self.transform is not None:\n",
    "            img0 = self.transform(img0)\n",
    "        \n",
    "        return img0, img0_tuple[1]\n",
    "    \n",
    "    def __len__(self):\n",
    "        return len(self.imageFolderDataset.imgs)"
   ]
  },
  {
   "cell_type": "markdown",
   "metadata": {},
   "source": [
    "## Using IMage Folder Dateset"
   ]
  },
  {
   "cell_type": "code",
   "execution_count": 5,
   "metadata": {},
   "outputs": [],
   "source": [
    "folder_dataset = dset.ImageFolder(root=Config.training_dir)"
   ]
  },
  {
   "cell_type": "code",
   "execution_count": 6,
   "metadata": {},
   "outputs": [
    {
     "name": "stdout",
     "output_type": "stream",
     "text": [
      "400\n"
     ]
    }
   ],
   "source": [
    "siamese_dataset = CNNDataset(imageFolderDataset=folder_dataset,\n",
    "                            transform=transforms.Compose([transforms.Resize((100,100)),\n",
    "                                                        transforms.ToTensor()\n",
    "                                                        ])\n",
    "                            ,should_invert=False)\n",
    "\n",
    "print(len(siamese_dataset))\n",
    "train_dataset, test_dataset = torch.utils.data.random_split(siamese_dataset, [340, 60])"
   ]
  },
  {
   "cell_type": "markdown",
   "metadata": {},
   "source": [
    "## Visualising some of the data"
   ]
  },
  {
   "cell_type": "code",
   "execution_count": 7,
   "metadata": {},
   "outputs": [
    {
     "data": {
      "image/png": "[encoded data removed]",
      "text/plain": [
       "<Figure size 432x288 with 1 Axes>"
      ]
     },
     "metadata": {
      "needs_background": "light"
     },
     "output_type": "display_data"
    },
    {
     "name": "stdout",
     "output_type": "stream",
     "text": [
      "[30 36 16 10  3 17 16 26]\n"
     ]
    }
   ],
   "source": [
    "vis_dataloader = DataLoader(train_dataset,\n",
    "                        shuffle=True,\n",
    "                        num_workers=8,\n",
    "                        batch_size=8)\n",
    "dataiter = iter(vis_dataloader)\n",
    "\n",
    "\n",
    "example_batch = next(dataiter)\n",
    "imshow(torchvision.utils.make_grid(example_batch[0]))\n",
    "print(example_batch[1].numpy())"
   ]
  },
  {
   "cell_type": "markdown",
   "metadata": {},
   "source": [
    "## Neural Net Definition"
   ]
  },
  {
   "cell_type": "code",
   "execution_count": 8,
   "metadata": {},
   "outputs": [],
   "source": [
    "class SiameseNetwork(nn.Module):\n",
    "    def __init__(self):\n",
    "        super(SiameseNetwork, self).__init__()\n",
    "        self.cnn1 = nn.Sequential(\n",
    "            nn.ReflectionPad2d(1),\n",
    "            nn.Conv2d(1, 4, kernel_size=3),\n",
    "            nn.ReLU(inplace=True),\n",
    "            nn.BatchNorm2d(4),\n",
    "            \n",
    "            nn.ReflectionPad2d(1),\n",
    "            nn.Conv2d(4, 8, kernel_size=3),\n",
    "            nn.ReLU(inplace=True),\n",
    "            nn.BatchNorm2d(8),\n",
    "\n",
    "\n",
    "            nn.ReflectionPad2d(1),\n",
    "            nn.Conv2d(8, 8, kernel_size=3),\n",
    "            nn.ReLU(inplace=True),\n",
    "            nn.BatchNorm2d(8),\n",
    "\n",
    "\n",
    "        )\n",
    "\n",
    "        self.fc1 = nn.Sequential(\n",
    "            nn.Linear(8*100*100, 500),\n",
    "            nn.ReLU(inplace=True),\n",
    "\n",
    "            nn.Linear(500, 500),\n",
    "            nn.ReLU(inplace=True),\n",
    "\n",
    "            nn.Linear(500, 5))\n",
    "\n",
    "    def forward_once(self, x):\n",
    "        output = self.cnn1(x)\n",
    "        output = output.view(output.size()[0], -1)\n",
    "        output = self.fc1(output)\n",
    "        return output\n",
    "\n",
    "    def forward(self, input1, input2):\n",
    "        output1 = self.forward_once(input1)\n",
    "        output2 = self.forward_once(input2)\n",
    "        return output1, output2"
   ]
  },
  {
   "cell_type": "code",
   "execution_count": 9,
   "metadata": {},
   "outputs": [],
   "source": [
    "class ComparedCNN(nn.Module):\n",
    "    def __init__(self):\n",
    "        super(ComparedCNN, self).__init__()\n",
    "        self.cnn1 = nn.Sequential(\n",
    "            nn.ReflectionPad2d(1),\n",
    "            nn.Conv2d(1, 4, kernel_size=3),\n",
    "            nn.ReLU(inplace=True),\n",
    "            nn.BatchNorm2d(4),\n",
    "            \n",
    "            nn.ReflectionPad2d(1),\n",
    "            nn.Conv2d(4, 8, kernel_size=3),\n",
    "            nn.ReLU(inplace=True),\n",
    "            nn.BatchNorm2d(8),\n",
    "\n",
    "\n",
    "            nn.ReflectionPad2d(1),\n",
    "            nn.Conv2d(8, 8, kernel_size=3),\n",
    "            nn.ReLU(inplace=True),\n",
    "            nn.BatchNorm2d(8),\n",
    "        )\n",
    "\n",
    "    def forward(self, x):\n",
    "        output = self.cnn1(x)\n",
    "        return output"
   ]
  },
  {
   "cell_type": "code",
   "execution_count": 10,
   "metadata": {},
   "outputs": [],
   "source": [
    "class ComparedCNNwithFC(nn.Module):\n",
    "    def __init__(self, cnn):\n",
    "        super(ComparedCNNwithFC, self).__init__()\n",
    "        self.cnn1 = cnn\n",
    "\n",
    "        self.fc1 = nn.Sequential(\n",
    "            nn.Linear(8*100*100, 120),\n",
    "            # nn.ReLU(inplace=True),\n",
    "\n",
    "            nn.Linear(120, 84),\n",
    "            # nn.ReLU(inplace=True),\n",
    "\n",
    "            nn.Linear(84, 40))\n",
    "\n",
    "    def forward(self, x):\n",
    "        output = self.cnn1(x)\n",
    "        output = output.view(output.size()[0], -1)\n",
    "        output = self.fc1(output)\n",
    "        return output"
   ]
  },
  {
   "cell_type": "markdown",
   "metadata": {},
   "source": [
    "## Load Pretain model and freeze CNN"
   ]
  },
  {
   "cell_type": "code",
   "execution_count": 11,
   "metadata": {},
   "outputs": [],
   "source": [
    "# pretrained_model = SiameseNetwork().cuda()\n",
    "# pretrained_model.load_state_dict(torch.load(\"./model\"))\n",
    "# pretrained_model.eval()\n",
    "\n",
    "# pretrained_dict = pretrained_model.state_dict()"
   ]
  },
  {
   "cell_type": "code",
   "execution_count": 12,
   "metadata": {},
   "outputs": [],
   "source": [
    "# model_cnn = ComparedCNN().cuda()\n",
    "# model_dict = model_cnn.state_dict()\n",
    "\n",
    "# # 1. filter out unnecessary keys\n",
    "# pretrained_dict = {k: v for k, v in pretrained_dict.items() if k in model_dict}\n",
    "# # 2. overwrite entries in the existing state dict\n",
    "# model_dict.update(pretrained_dict) \n",
    "# # 3. load the new state dict\n",
    "# model_cnn.load_state_dict(pretrained_dict)"
   ]
  },
  {
   "cell_type": "code",
   "execution_count": 13,
   "metadata": {},
   "outputs": [],
   "source": [
    "# model_cnn_fc = ComparedCNNwithFC(model_cnn.requires_grad_(False)).cuda()"
   ]
  },
  {
   "cell_type": "markdown",
   "metadata": {},
   "source": [
    "## No pretain model"
   ]
  },
  {
   "cell_type": "code",
   "execution_count": 14,
   "metadata": {},
   "outputs": [],
   "source": [
    "model_cnn = ComparedCNN().cuda()\n",
    "model_cnn_fc = ComparedCNNwithFC(model_cnn).cuda()"
   ]
  },
  {
   "cell_type": "markdown",
   "metadata": {},
   "source": [
    "## Loss Function"
   ]
  },
  {
   "cell_type": "code",
   "execution_count": 15,
   "metadata": {},
   "outputs": [],
   "source": [
    "criterion = nn.CrossEntropyLoss()\n",
    "optimizer = optim.SGD(model_cnn_fc.parameters(), lr=0.001, momentum=0.9)"
   ]
  },
  {
   "cell_type": "markdown",
   "metadata": {},
   "source": [
    "## Training"
   ]
  },
  {
   "cell_type": "code",
   "execution_count": 16,
   "metadata": {},
   "outputs": [],
   "source": [
    "train_dataloader = DataLoader(siamese_dataset,\n",
    "                        shuffle=True,\n",
    "                        num_workers=8,\n",
    "                        batch_size=Config.train_batch_size)"
   ]
  },
  {
   "cell_type": "code",
   "execution_count": 17,
   "metadata": {},
   "outputs": [],
   "source": [
    "counter = []\n",
    "loss_history = [] \n",
    "iteration_number= 0"
   ]
  },
  {
   "cell_type": "code",
   "execution_count": 18,
   "metadata": {},
   "outputs": [
    {
     "name": "stdout",
     "output_type": "stream",
     "text": [
      "Epoch number 0\n",
      " Current loss 3.7246179580688477\n",
      "\n",
      "Epoch number 1\n",
      " Current loss 2.6163506507873535\n",
      "\n",
      "Epoch number 2\n",
      " Current loss 1.1370141506195068\n",
      "\n",
      "Epoch number 3\n",
      " Current loss 0.7621380686759949\n",
      "\n",
      "Epoch number 4\n",
      " Current loss 0.21251405775547028\n",
      "\n",
      "Epoch number 5\n",
      " Current loss 0.2127039134502411\n",
      "\n",
      "Epoch number 6\n",
      " Current loss 0.09153980016708374\n",
      "\n",
      "Epoch number 7\n",
      " Current loss 0.07892517000436783\n",
      "\n",
      "Epoch number 8\n",
      " Current loss 0.045171741396188736\n",
      "\n",
      "Epoch number 9\n",
      " Current loss 0.03517245128750801\n",
      "\n",
      "Epoch number 10\n",
      " Current loss 0.03645077720284462\n",
      "\n",
      "Epoch number 11\n",
      " Current loss 0.020015282556414604\n",
      "\n",
      "Epoch number 12\n",
      " Current loss 0.022523365914821625\n",
      "\n",
      "Epoch number 13\n",
      " Current loss 0.02411472238600254\n",
      "\n",
      "Epoch number 14\n",
      " Current loss 0.017833366990089417\n",
      "\n",
      "Epoch number 15\n",
      " Current loss 0.013553961180150509\n",
      "\n",
      "Epoch number 16\n",
      " Current loss 0.01918712817132473\n",
      "\n",
      "Epoch number 17\n",
      " Current loss 0.013993091881275177\n",
      "\n",
      "Epoch number 18\n",
      " Current loss 0.01082198228687048\n",
      "\n",
      "Epoch number 19\n",
      " Current loss 0.012401873245835304\n",
      "\n",
      "Epoch number 20\n",
      " Current loss 0.013517910614609718\n",
      "\n",
      "Epoch number 21\n",
      " Current loss 0.011939031071960926\n",
      "\n",
      "Epoch number 22\n",
      " Current loss 0.010245084762573242\n",
      "\n",
      "Epoch number 23\n",
      " Current loss 0.009998776018619537\n",
      "\n",
      "Epoch number 24\n",
      " Current loss 0.007898342795670033\n",
      "\n",
      "Epoch number 25\n",
      " Current loss 0.009831027127802372\n",
      "\n",
      "Epoch number 26\n",
      " Current loss 0.009875071235001087\n",
      "\n",
      "Epoch number 27\n",
      " Current loss 0.007740318309515715\n",
      "\n",
      "Epoch number 28\n",
      " Current loss 0.011443489231169224\n",
      "\n",
      "Epoch number 29\n",
      " Current loss 0.0090861227363348\n",
      "\n",
      "Epoch number 30\n",
      " Current loss 0.006886075250804424\n",
      "\n",
      "Epoch number 31\n",
      " Current loss 0.00842652190476656\n",
      "\n",
      "Epoch number 32\n",
      " Current loss 0.00794093869626522\n",
      "\n",
      "Epoch number 33\n",
      " Current loss 0.006400656886398792\n",
      "\n",
      "Epoch number 34\n",
      " Current loss 0.007210528012365103\n",
      "\n",
      "Epoch number 35\n",
      " Current loss 0.007320038974285126\n",
      "\n",
      "Epoch number 36\n",
      " Current loss 0.007123803254216909\n",
      "\n",
      "Epoch number 37\n",
      " Current loss 0.006522983778268099\n",
      "\n",
      "Epoch number 38\n",
      " Current loss 0.006024940870702267\n",
      "\n",
      "Epoch number 39\n",
      " Current loss 0.007641730830073357\n",
      "\n",
      "Epoch number 40\n",
      " Current loss 0.004960484802722931\n",
      "\n",
      "Epoch number 41\n",
      " Current loss 0.005890978034585714\n",
      "\n",
      "Epoch number 42\n",
      " Current loss 0.005430118180811405\n",
      "\n",
      "Epoch number 43\n",
      " Current loss 0.004879342392086983\n",
      "\n",
      "Epoch number 44\n",
      " Current loss 0.004382174927741289\n",
      "\n",
      "Epoch number 45\n",
      " Current loss 0.005174653604626656\n",
      "\n",
      "Epoch number 46\n",
      " Current loss 0.0041879815980792046\n",
      "\n",
      "Epoch number 47\n",
      " Current loss 0.005220361519604921\n",
      "\n",
      "Epoch number 48\n",
      " Current loss 0.005162802524864674\n",
      "\n",
      "Epoch number 49\n",
      " Current loss 0.003769993782043457\n",
      "\n",
      "Epoch number 50\n",
      " Current loss 0.004835070110857487\n",
      "\n",
      "Epoch number 51\n",
      " Current loss 0.005157147999852896\n",
      "\n",
      "Epoch number 52\n",
      " Current loss 0.0034955209121108055\n",
      "\n",
      "Epoch number 53\n",
      " Current loss 0.004660260397940874\n",
      "\n",
      "Epoch number 54\n",
      " Current loss 0.003966715186834335\n",
      "\n",
      "Epoch number 55\n",
      " Current loss 0.004653747193515301\n",
      "\n",
      "Epoch number 56\n",
      " Current loss 0.0039888727478682995\n",
      "\n",
      "Epoch number 57\n",
      " Current loss 0.0038043176755309105\n",
      "\n",
      "Epoch number 58\n",
      " Current loss 0.0036356595810502768\n",
      "\n",
      "Epoch number 59\n",
      " Current loss 0.003594957524910569\n",
      "\n",
      "Epoch number 60\n",
      " Current loss 0.0035901193041354418\n",
      "\n",
      "Epoch number 61\n",
      " Current loss 0.00403454527258873\n",
      "\n",
      "Epoch number 62\n",
      " Current loss 0.0036953797098249197\n",
      "\n",
      "Epoch number 63\n",
      " Current loss 0.0032090472523123026\n",
      "\n",
      "Epoch number 64\n",
      " Current loss 0.0033385716378688812\n",
      "\n",
      "Epoch number 65\n",
      " Current loss 0.003239280777052045\n",
      "\n",
      "Epoch number 66\n",
      " Current loss 0.003237865399569273\n",
      "\n",
      "Epoch number 67\n",
      " Current loss 0.003421338042244315\n",
      "\n",
      "Epoch number 68\n",
      " Current loss 0.0038155321963131428\n",
      "\n",
      "Epoch number 69\n",
      " Current loss 0.0043419585563242435\n",
      "\n",
      "Epoch number 70\n",
      " Current loss 0.0034641099628061056\n",
      "\n",
      "Epoch number 71\n",
      " Current loss 0.004033728502690792\n",
      "\n",
      "Epoch number 72\n",
      " Current loss 0.0026274980045855045\n",
      "\n",
      "Epoch number 73\n",
      " Current loss 0.002963551552966237\n",
      "\n",
      "Epoch number 74\n",
      " Current loss 0.002944603329524398\n",
      "\n",
      "Epoch number 75\n",
      " Current loss 0.0035138940438628197\n",
      "\n",
      "Epoch number 76\n",
      " Current loss 0.003215031698346138\n",
      "\n",
      "Epoch number 77\n",
      " Current loss 0.002124374033883214\n",
      "\n",
      "Epoch number 78\n",
      " Current loss 0.003321104682981968\n",
      "\n",
      "Epoch number 79\n",
      " Current loss 0.0037613827735185623\n",
      "\n",
      "Epoch number 80\n",
      " Current loss 0.002626588335260749\n",
      "\n",
      "Epoch number 81\n",
      " Current loss 0.0027597788721323013\n",
      "\n",
      "Epoch number 82\n",
      " Current loss 0.0023034100886434317\n",
      "\n",
      "Epoch number 83\n",
      " Current loss 0.002730894833803177\n",
      "\n",
      "Epoch number 84\n",
      " Current loss 0.0023426918778568506\n",
      "\n",
      "Epoch number 85\n",
      " Current loss 0.002586101181805134\n",
      "\n",
      "Epoch number 86\n",
      " Current loss 0.003037506714463234\n",
      "\n",
      "Epoch number 87\n",
      " Current loss 0.0029870604630559683\n",
      "\n",
      "Epoch number 88\n",
      " Current loss 0.002363792387768626\n",
      "\n",
      "Epoch number 89\n",
      " Current loss 0.0029408500995486975\n",
      "\n",
      "Epoch number 90\n",
      " Current loss 0.0024817809462547302\n",
      "\n",
      "Epoch number 91\n",
      " Current loss 0.0027590070385485888\n",
      "\n",
      "Epoch number 92\n",
      " Current loss 0.002498478628695011\n",
      "\n",
      "Epoch number 93\n",
      " Current loss 0.002200015587732196\n",
      "\n",
      "Epoch number 94\n",
      " Current loss 0.002576007042080164\n",
      "\n",
      "Epoch number 95\n",
      " Current loss 0.0028334371745586395\n",
      "\n",
      "Epoch number 96\n",
      " Current loss 0.0017879984807223082\n",
      "\n",
      "Epoch number 97\n",
      " Current loss 0.002133312402293086\n",
      "\n",
      "Epoch number 98\n",
      " Current loss 0.003018554300069809\n",
      "\n",
      "Epoch number 99\n",
      " Current loss 0.003069731406867504\n",
      "\n"
     ]
    },
    {
     "data": {
      "image/png": "[encoded data removed]",
      "text/plain": [
       "<Figure size 432x288 with 1 Axes>"
      ]
     },
     "metadata": {
      "needs_background": "light"
     },
     "output_type": "display_data"
    }
   ],
   "source": [
    "for epoch in range(0,Config.train_number_epochs):\n",
    "    for i, data in enumerate(train_dataloader,0):\n",
    "        img0, label = data\n",
    "        img0, label = img0.cuda(), label.cuda()\n",
    "        optimizer.zero_grad()\n",
    "        output1 = model_cnn_fc(img0)\n",
    "        loss_contrastive = criterion(output1,label)\n",
    "        loss_contrastive.backward()\n",
    "        optimizer.step()\n",
    "        if i % 10 == 0 :\n",
    "            print(\"Epoch number {}\\n Current loss {}\\n\".format(epoch,loss_contrastive.item()))\n",
    "            iteration_number +=10\n",
    "            counter.append(iteration_number)\n",
    "            loss_history.append(loss_contrastive.item())\n",
    "show_plot(counter,loss_history)"
   ]
  },
  {
   "cell_type": "markdown",
   "metadata": {},
   "source": [
    "## Testing"
   ]
  },
  {
   "cell_type": "code",
   "execution_count": 19,
   "metadata": {},
   "outputs": [
    {
     "data": {
      "image/png": "[encoded data removed]",
      "text/plain": [
       "<Figure size 432x288 with 1 Axes>"
      ]
     },
     "metadata": {
      "needs_background": "light"
     },
     "output_type": "display_data"
    },
    {
     "name": "stdout",
     "output_type": "stream",
     "text": [
      "GroundTruth:  38\n"
     ]
    },
    {
     "data": {
      "image/png": "[encoded data removed]",
      "text/plain": [
       "<Figure size 432x288 with 1 Axes>"
      ]
     },
     "metadata": {
      "needs_background": "light"
     },
     "output_type": "display_data"
    },
    {
     "name": "stdout",
     "output_type": "stream",
     "text": [
      "GroundTruth:  7\n"
     ]
    },
    {
     "data": {
      "image/png": "[encoded data removed]",
      "text/plain": [
       "<Figure size 432x288 with 1 Axes>"
      ]
     },
     "metadata": {
      "needs_background": "light"
     },
     "output_type": "display_data"
    },
    {
     "name": "stdout",
     "output_type": "stream",
     "text": [
      "GroundTruth:  28\n"
     ]
    },
    {
     "data": {
      "image/png": "[encoded data removed]",
      "text/plain": [
       "<Figure size 432x288 with 1 Axes>"
      ]
     },
     "metadata": {
      "needs_background": "light"
     },
     "output_type": "display_data"
    },
    {
     "name": "stdout",
     "output_type": "stream",
     "text": [
      "GroundTruth:  29\n"
     ]
    },
    {
     "data": {
      "image/png": "[encoded data removed]",
      "text/plain": [
       "<Figure size 432x288 with 1 Axes>"
      ]
     },
     "metadata": {
      "needs_background": "light"
     },
     "output_type": "display_data"
    },
    {
     "name": "stdout",
     "output_type": "stream",
     "text": [
      "GroundTruth:  26\n"
     ]
    }
   ],
   "source": [
    "test_dataloader = DataLoader(test_dataset,num_workers=6,batch_size=1,shuffle=True)\n",
    "dataiter = iter(test_dataloader)\n",
    "\n",
    "for i in range(5):\n",
    "    images, labels = next(dataiter)\n",
    "    # print images\n",
    "    imshow(torchvision.utils.make_grid(images))\n",
    "    print('GroundTruth: ', labels[0].numpy()+4)"
   ]
  },
  {
   "cell_type": "code",
   "execution_count": 20,
   "metadata": {},
   "outputs": [
    {
     "name": "stdout",
     "output_type": "stream",
     "text": [
      "Accuracy of the network on the test images: 98 %\n"
     ]
    }
   ],
   "source": [
    "correct = 0\n",
    "total = 0\n",
    "\n",
    "# since we're not training, we don't need to calculate the gradients for our outputs\n",
    "with torch.no_grad():\n",
    "    for data in test_dataloader:\n",
    "        images, labels = data\n",
    "        images, labels = images.cuda(), labels.cuda()\n",
    "        # calculate outputs by running images through the network\n",
    "        outputs = model_cnn_fc(images)\n",
    "        # the class with the highest energy is what we choose as prediction\n",
    "        _, predicted = torch.max(outputs.data, 1)\n",
    "        total += labels.size(0)\n",
    "        correct += (predicted == labels).sum().item()\n",
    "\n",
    "print('Accuracy of the network on the test images: %d %%' % (\n",
    "    100 * correct / total))"
   ]
  },
  {
   "cell_type": "code",
   "execution_count": null,
   "metadata": {},
   "outputs": [],
   "source": []
  }
 ],
 "metadata": {
  "interpreter": {
   "hash": "c55349359a351a462cc3bd81967acc45131d7a467a70652d02e0e294c2b701fc"
  },
  "kernelspec": {
   "display_name": "Python 3.6.9 64-bit ('pytorch': venv)",
   "language": "python",
   "name": "python3"
  },
  "language_info": {
   "codemirror_mode": {
    "name": "ipython",
    "version": 3
   },
   "file_extension": ".py",
   "mimetype": "text/x-python",
   "name": "python",
   "nbconvert_exporter": "python",
   "pygments_lexer": "ipython3",
   "version": "3.6.9"
  },
  "orig_nbformat": 4
 },
 "nbformat": 4,
 "nbformat_minor": 2
}
