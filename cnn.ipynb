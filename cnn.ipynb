{
 "cells": [
  {
   "cell_type": "markdown",
   "metadata": {},
   "source": [
    "# Test transfer learning from Siamese Network to CNN only"
   ]
  },
  {
   "cell_type": "markdown",
   "metadata": {},
   "source": [
    "## Imports"
   ]
  },
  {
   "cell_type": "code",
   "execution_count": 23,
   "metadata": {},
   "outputs": [],
   "source": [
    "%matplotlib inline\n",
    "import torchvision\n",
    "import torchvision.datasets as dset\n",
    "import torchvision.transforms as transforms\n",
    "from torch.utils.data import DataLoader,Dataset\n",
    "import matplotlib.pyplot as plt\n",
    "import torchvision.utils\n",
    "import numpy as np\n",
    "import random\n",
    "from PIL import Image\n",
    "import torch\n",
    "from torch.autograd import Variable\n",
    "import PIL.ImageOps    \n",
    "import torch.nn as nn\n",
    "from torch import optim\n",
    "import torch.nn.functional as F"
   ]
  },
  {
   "cell_type": "markdown",
   "metadata": {},
   "source": [
    "## Helper functions"
   ]
  },
  {
   "cell_type": "code",
   "execution_count": 24,
   "metadata": {},
   "outputs": [],
   "source": [
    "def imshow(img,text=None,should_save=False):\n",
    "    npimg = img.numpy()\n",
    "    plt.axis(\"off\")\n",
    "    if text:\n",
    "        plt.text(75, 8, text, style='italic',fontweight='bold',\n",
    "            bbox={'facecolor':'white', 'alpha':0.8, 'pad':10})\n",
    "    plt.imshow(np.transpose(npimg, (1, 2, 0)))\n",
    "    plt.show()    \n",
    "\n",
    "def show_plot(iteration,loss):\n",
    "    plt.plot(iteration,loss)\n",
    "    plt.show()"
   ]
  },
  {
   "cell_type": "markdown",
   "metadata": {},
   "source": [
    "## Configuration Class"
   ]
  },
  {
   "cell_type": "code",
   "execution_count": 25,
   "metadata": {},
   "outputs": [],
   "source": [
    "class Config():\n",
    "    training_dir = \"./data/faces_cnn/training/\"\n",
    "    # testing_dir = \"./data/faces/testing/\"\n",
    "    train_batch_size = 64\n",
    "    train_number_epochs = 100"
   ]
  },
  {
   "cell_type": "markdown",
   "metadata": {},
   "source": [
    "## Custom Dataset Class"
   ]
  },
  {
   "cell_type": "code",
   "execution_count": 26,
   "metadata": {},
   "outputs": [],
   "source": [
    "class CNNDataset(Dataset):\n",
    "    \n",
    "    def __init__(self,imageFolderDataset,transform=None,should_invert=True):\n",
    "        self.imageFolderDataset = imageFolderDataset    \n",
    "        self.transform = transform\n",
    "        self.should_invert = should_invert\n",
    "        \n",
    "    def __getitem__(self,index):\n",
    "        img0_tuple = random.choice(self.imageFolderDataset.imgs)\n",
    "\n",
    "        img0 = Image.open(img0_tuple[0])\n",
    "        img0 = img0.convert(\"L\")\n",
    "        \n",
    "        if self.should_invert:\n",
    "            img0 = PIL.ImageOps.invert(img0)\n",
    "\n",
    "        if self.transform is not None:\n",
    "            img0 = self.transform(img0)\n",
    "        \n",
    "        return img0, img0_tuple[1]\n",
    "    \n",
    "    def __len__(self):\n",
    "        return len(self.imageFolderDataset.imgs)"
   ]
  },
  {
   "cell_type": "markdown",
   "metadata": {},
   "source": [
    "## Using IMage Folder Dateset"
   ]
  },
  {
   "cell_type": "code",
   "execution_count": 27,
   "metadata": {},
   "outputs": [],
   "source": [
    "folder_dataset = dset.ImageFolder(root=Config.training_dir)"
   ]
  },
  {
   "cell_type": "code",
   "execution_count": 28,
   "metadata": {},
   "outputs": [
    {
     "name": "stdout",
     "output_type": "stream",
     "text": [
      "400\n"
     ]
    }
   ],
   "source": [
    "siamese_dataset = CNNDataset(imageFolderDataset=folder_dataset,\n",
    "                            transform=transforms.Compose([transforms.Resize((100,100)),\n",
    "                                                        transforms.ToTensor()\n",
    "                                                        ])\n",
    "                            ,should_invert=False)\n",
    "\n",
    "print(len(siamese_dataset))\n",
    "train_dataset, test_dataset = train_set, val_set = torch.utils.data.random_split(siamese_dataset, [340, 60])"
   ]
  },
  {
   "cell_type": "markdown",
   "metadata": {},
   "source": [
    "## Visualising some of the data"
   ]
  },
  {
   "cell_type": "code",
   "execution_count": 29,
   "metadata": {},
   "outputs": [
    {
     "data": {
      "image/png": "[encoded data removed]",
      "text/plain": [
       "<Figure size 432x288 with 1 Axes>"
      ]
     },
     "metadata": {
      "needs_background": "light"
     },
     "output_type": "display_data"
    },
    {
     "name": "stdout",
     "output_type": "stream",
     "text": [
      "[36 18  7  5 37 14  2 10]\n"
     ]
    }
   ],
   "source": [
    "vis_dataloader = DataLoader(train_dataset,\n",
    "                        shuffle=True,\n",
    "                        num_workers=8,\n",
    "                        batch_size=8)\n",
    "dataiter = iter(vis_dataloader)\n",
    "\n",
    "\n",
    "example_batch = next(dataiter)\n",
    "imshow(torchvision.utils.make_grid(example_batch[0]))\n",
    "print(example_batch[1].numpy())"
   ]
  },
  {
   "cell_type": "markdown",
   "metadata": {},
   "source": [
    "## Neural Net Definition"
   ]
  },
  {
   "cell_type": "code",
   "execution_count": 30,
   "metadata": {},
   "outputs": [],
   "source": [
    "class SiameseNetwork(nn.Module):\n",
    "    def __init__(self):\n",
    "        super(SiameseNetwork, self).__init__()\n",
    "        self.cnn1 = nn.Sequential(\n",
    "            nn.ReflectionPad2d(1),\n",
    "            nn.Conv2d(1, 4, kernel_size=3),\n",
    "            nn.ReLU(inplace=True),\n",
    "            nn.BatchNorm2d(4),\n",
    "            \n",
    "            nn.ReflectionPad2d(1),\n",
    "            nn.Conv2d(4, 8, kernel_size=3),\n",
    "            nn.ReLU(inplace=True),\n",
    "            nn.BatchNorm2d(8),\n",
    "\n",
    "\n",
    "            nn.ReflectionPad2d(1),\n",
    "            nn.Conv2d(8, 8, kernel_size=3),\n",
    "            nn.ReLU(inplace=True),\n",
    "            nn.BatchNorm2d(8),\n",
    "\n",
    "\n",
    "        )\n",
    "\n",
    "        self.fc1 = nn.Sequential(\n",
    "            nn.Linear(8*100*100, 500),\n",
    "            nn.ReLU(inplace=True),\n",
    "\n",
    "            nn.Linear(500, 500),\n",
    "            nn.ReLU(inplace=True),\n",
    "\n",
    "            nn.Linear(500, 5))\n",
    "\n",
    "    def forward_once(self, x):\n",
    "        output = self.cnn1(x)\n",
    "        output = output.view(output.size()[0], -1)\n",
    "        output = self.fc1(output)\n",
    "        return output\n",
    "\n",
    "    def forward(self, input1, input2):\n",
    "        output1 = self.forward_once(input1)\n",
    "        output2 = self.forward_once(input2)\n",
    "        return output1, output2"
   ]
  },
  {
   "cell_type": "code",
   "execution_count": 31,
   "metadata": {},
   "outputs": [],
   "source": [
    "class ComparedCNN(nn.Module):\n",
    "    def __init__(self):\n",
    "        super(ComparedCNN, self).__init__()\n",
    "        self.cnn1 = nn.Sequential(\n",
    "            nn.ReflectionPad2d(1),\n",
    "            nn.Conv2d(1, 4, kernel_size=3),\n",
    "            nn.ReLU(inplace=True),\n",
    "            nn.BatchNorm2d(4),\n",
    "            \n",
    "            nn.ReflectionPad2d(1),\n",
    "            nn.Conv2d(4, 8, kernel_size=3),\n",
    "            nn.ReLU(inplace=True),\n",
    "            nn.BatchNorm2d(8),\n",
    "\n",
    "\n",
    "            nn.ReflectionPad2d(1),\n",
    "            nn.Conv2d(8, 8, kernel_size=3),\n",
    "            nn.ReLU(inplace=True),\n",
    "            nn.BatchNorm2d(8),\n",
    "        )\n",
    "\n",
    "    def forward(self, x):\n",
    "        output = self.cnn1(x)\n",
    "        return output"
   ]
  },
  {
   "cell_type": "code",
   "execution_count": 32,
   "metadata": {},
   "outputs": [],
   "source": [
    "class ComparedCNNwithFC(nn.Module):\n",
    "    def __init__(self, cnn):\n",
    "        super(ComparedCNNwithFC, self).__init__()\n",
    "        self.cnn1 = cnn\n",
    "\n",
    "        self.fc1 = nn.Sequential(\n",
    "            nn.Linear(8*100*100, 120),\n",
    "            # nn.ReLU(inplace=True),\n",
    "\n",
    "            nn.Linear(120, 84),\n",
    "            # nn.ReLU(inplace=True),\n",
    "\n",
    "            nn.Linear(84, 40))\n",
    "\n",
    "    def forward(self, x):\n",
    "        output = self.cnn1(x)\n",
    "        output = output.view(output.size()[0], -1)\n",
    "        output = self.fc1(output)\n",
    "        return output"
   ]
  },
  {
   "cell_type": "markdown",
   "metadata": {},
   "source": [
    "## Load Pretain model and freeze CNN"
   ]
  },
  {
   "cell_type": "code",
   "execution_count": 33,
   "metadata": {},
   "outputs": [],
   "source": [
    "# pretrained_model = SiameseNetwork().cuda()\n",
    "# pretrained_model.load_state_dict(torch.load(\"./model\"))\n",
    "# pretrained_model.eval()\n",
    "\n",
    "# pretrained_dict = pretrained_model.state_dict()"
   ]
  },
  {
   "cell_type": "code",
   "execution_count": 34,
   "metadata": {},
   "outputs": [],
   "source": [
    "# model_cnn = ComparedCNN().cuda()\n",
    "# model_dict = model_cnn.state_dict()\n",
    "\n",
    "# # 1. filter out unnecessary keys\n",
    "# pretrained_dict = {k: v for k, v in pretrained_dict.items() if k in model_dict}\n",
    "# # 2. overwrite entries in the existing state dict\n",
    "# model_dict.update(pretrained_dict) \n",
    "# # 3. load the new state dict\n",
    "# model_cnn.load_state_dict(pretrained_dict)"
   ]
  },
  {
   "cell_type": "code",
   "execution_count": 35,
   "metadata": {},
   "outputs": [],
   "source": [
    "# model_cnn_fc = ComparedCNNwithFC(model_cnn.requires_grad_(False)).cuda()"
   ]
  },
  {
   "cell_type": "markdown",
   "metadata": {},
   "source": [
    "## No pretain model"
   ]
  },
  {
   "cell_type": "code",
   "execution_count": 36,
   "metadata": {},
   "outputs": [],
   "source": [
    "model_cnn = ComparedCNN().cuda()\n",
    "model_cnn_fc = ComparedCNNwithFC(model_cnn).cuda()"
   ]
  },
  {
   "cell_type": "markdown",
   "metadata": {},
   "source": [
    "## Loss Function"
   ]
  },
  {
   "cell_type": "code",
   "execution_count": 37,
   "metadata": {},
   "outputs": [],
   "source": [
    "criterion = nn.CrossEntropyLoss()\n",
    "optimizer = optim.SGD(model_cnn_fc.parameters(), lr=0.001, momentum=0.9)"
   ]
  },
  {
   "cell_type": "markdown",
   "metadata": {},
   "source": [
    "## Training"
   ]
  },
  {
   "cell_type": "code",
   "execution_count": 38,
   "metadata": {},
   "outputs": [],
   "source": [
    "train_dataloader = DataLoader(siamese_dataset,\n",
    "                        shuffle=True,\n",
    "                        num_workers=8,\n",
    "                        batch_size=Config.train_batch_size)"
   ]
  },
  {
   "cell_type": "code",
   "execution_count": 39,
   "metadata": {},
   "outputs": [],
   "source": [
    "counter = []\n",
    "loss_history = [] \n",
    "iteration_number= 0"
   ]
  },
  {
   "cell_type": "code",
   "execution_count": 40,
   "metadata": {},
   "outputs": [
    {
     "name": "stdout",
     "output_type": "stream",
     "text": [
      "Epoch number 0\n",
      " Current loss 3.7007503509521484\n",
      "\n",
      "Epoch number 1\n",
      " Current loss 2.3135082721710205\n",
      "\n",
      "Epoch number 2\n",
      " Current loss 1.2030138969421387\n",
      "\n",
      "Epoch number 3\n",
      " Current loss 0.34745973348617554\n",
      "\n",
      "Epoch number 4\n",
      " Current loss 0.14209629595279694\n",
      "\n",
      "Epoch number 5\n",
      " Current loss 0.059737712144851685\n",
      "\n",
      "Epoch number 6\n",
      " Current loss 0.03642691671848297\n",
      "\n",
      "Epoch number 7\n",
      " Current loss 0.030960826203227043\n",
      "\n",
      "Epoch number 8\n",
      " Current loss 0.020766450092196465\n",
      "\n",
      "Epoch number 9\n",
      " Current loss 0.018841343000531197\n",
      "\n",
      "Epoch number 10\n",
      " Current loss 0.019052503630518913\n",
      "\n",
      "Epoch number 11\n",
      " Current loss 0.012207507155835629\n",
      "\n",
      "Epoch number 12\n",
      " Current loss 0.012640669010579586\n",
      "\n",
      "Epoch number 13\n",
      " Current loss 0.010105407796800137\n",
      "\n",
      "Epoch number 14\n",
      " Current loss 0.008580351248383522\n",
      "\n",
      "Epoch number 15\n",
      " Current loss 0.009754408150911331\n",
      "\n",
      "Epoch number 16\n",
      " Current loss 0.011572163552045822\n",
      "\n",
      "Epoch number 17\n",
      " Current loss 0.010959398001432419\n",
      "\n",
      "Epoch number 18\n",
      " Current loss 0.006153579335659742\n",
      "\n",
      "Epoch number 19\n",
      " Current loss 0.008881972171366215\n",
      "\n",
      "Epoch number 20\n",
      " Current loss 0.006616460625082254\n",
      "\n",
      "Epoch number 21\n",
      " Current loss 0.007059501484036446\n",
      "\n",
      "Epoch number 22\n",
      " Current loss 0.009677164256572723\n",
      "\n",
      "Epoch number 23\n",
      " Current loss 0.007667956408113241\n",
      "\n",
      "Epoch number 24\n",
      " Current loss 0.006948298308998346\n",
      "\n",
      "Epoch number 25\n",
      " Current loss 0.007000924088060856\n",
      "\n",
      "Epoch number 26\n",
      " Current loss 0.005637072026729584\n",
      "\n",
      "Epoch number 27\n",
      " Current loss 0.004407941829413176\n",
      "\n",
      "Epoch number 28\n",
      " Current loss 0.0051856753416359425\n",
      "\n",
      "Epoch number 29\n",
      " Current loss 0.005173687823116779\n",
      "\n",
      "Epoch number 30\n",
      " Current loss 0.005977247841656208\n",
      "\n",
      "Epoch number 31\n",
      " Current loss 0.004988804459571838\n",
      "\n",
      "Epoch number 32\n",
      " Current loss 0.004828742239624262\n",
      "\n",
      "Epoch number 33\n",
      " Current loss 0.003939410671591759\n",
      "\n",
      "Epoch number 34\n",
      " Current loss 0.0059332940727472305\n",
      "\n",
      "Epoch number 35\n",
      " Current loss 0.004023798741400242\n",
      "\n",
      "Epoch number 36\n",
      " Current loss 0.005120809655636549\n",
      "\n",
      "Epoch number 37\n",
      " Current loss 0.005333827342838049\n",
      "\n",
      "Epoch number 38\n",
      " Current loss 0.0049763331189751625\n",
      "\n",
      "Epoch number 39\n",
      " Current loss 0.00390134216286242\n",
      "\n",
      "Epoch number 40\n",
      " Current loss 0.0041185407899320126\n",
      "\n",
      "Epoch number 41\n",
      " Current loss 0.004850327968597412\n",
      "\n",
      "Epoch number 42\n",
      " Current loss 0.0064094518311321735\n",
      "\n",
      "Epoch number 43\n",
      " Current loss 0.00306392228230834\n",
      "\n",
      "Epoch number 44\n",
      " Current loss 0.0033829696476459503\n",
      "\n",
      "Epoch number 45\n",
      " Current loss 0.0038281860761344433\n",
      "\n",
      "Epoch number 46\n",
      " Current loss 0.003686208976432681\n",
      "\n",
      "Epoch number 47\n",
      " Current loss 0.0028964425437152386\n",
      "\n",
      "Epoch number 48\n",
      " Current loss 0.003702405374497175\n",
      "\n",
      "Epoch number 49\n",
      " Current loss 0.0033486257307231426\n",
      "\n",
      "Epoch number 50\n",
      " Current loss 0.003017741022631526\n",
      "\n",
      "Epoch number 51\n",
      " Current loss 0.00338254333473742\n",
      "\n",
      "Epoch number 52\n",
      " Current loss 0.0037722596898674965\n",
      "\n",
      "Epoch number 53\n",
      " Current loss 0.004089644178748131\n",
      "\n",
      "Epoch number 54\n",
      " Current loss 0.0028377221897244453\n",
      "\n",
      "Epoch number 55\n",
      " Current loss 0.002581946784630418\n",
      "\n",
      "Epoch number 56\n",
      " Current loss 0.002947088796645403\n",
      "\n",
      "Epoch number 57\n",
      " Current loss 0.0027584026101976633\n",
      "\n",
      "Epoch number 58\n",
      " Current loss 0.0030958005227148533\n",
      "\n",
      "Epoch number 59\n",
      " Current loss 0.003177504288032651\n",
      "\n",
      "Epoch number 60\n",
      " Current loss 0.0024182230699807405\n",
      "\n",
      "Epoch number 61\n",
      " Current loss 0.0029574031941592693\n",
      "\n",
      "Epoch number 62\n",
      " Current loss 0.002271245000883937\n",
      "\n",
      "Epoch number 63\n",
      " Current loss 0.0036511439830064774\n",
      "\n",
      "Epoch number 64\n",
      " Current loss 0.002572373952716589\n",
      "\n",
      "Epoch number 65\n",
      " Current loss 0.0030710240826010704\n",
      "\n",
      "Epoch number 66\n",
      " Current loss 0.0016353459795936942\n",
      "\n",
      "Epoch number 67\n",
      " Current loss 0.0030901567079126835\n",
      "\n",
      "Epoch number 68\n",
      " Current loss 0.0017888547154143453\n",
      "\n",
      "Epoch number 69\n",
      " Current loss 0.0024965698830783367\n",
      "\n",
      "Epoch number 70\n",
      " Current loss 0.0025407576467841864\n",
      "\n",
      "Epoch number 71\n",
      " Current loss 0.002380554098635912\n",
      "\n",
      "Epoch number 72\n",
      " Current loss 0.0022554632741957903\n",
      "\n",
      "Epoch number 73\n",
      " Current loss 0.0025555978063493967\n",
      "\n",
      "Epoch number 74\n",
      " Current loss 0.002092626178637147\n",
      "\n",
      "Epoch number 75\n",
      " Current loss 0.002692187437787652\n",
      "\n",
      "Epoch number 76\n",
      " Current loss 0.002241553273051977\n",
      "\n",
      "Epoch number 77\n",
      " Current loss 0.002685392973944545\n",
      "\n",
      "Epoch number 78\n",
      " Current loss 0.002645482774823904\n",
      "\n",
      "Epoch number 79\n",
      " Current loss 0.0018149138195440173\n",
      "\n",
      "Epoch number 80\n",
      " Current loss 0.0026917988434433937\n",
      "\n",
      "Epoch number 81\n",
      " Current loss 0.0017729562241584063\n",
      "\n",
      "Epoch number 82\n",
      " Current loss 0.0017378347693011165\n",
      "\n",
      "Epoch number 83\n",
      " Current loss 0.0017460344824939966\n",
      "\n",
      "Epoch number 84\n",
      " Current loss 0.0023389298003166914\n",
      "\n",
      "Epoch number 85\n",
      " Current loss 0.0018199356272816658\n",
      "\n",
      "Epoch number 86\n",
      " Current loss 0.002501808339729905\n",
      "\n",
      "Epoch number 87\n",
      " Current loss 0.002101890044286847\n",
      "\n",
      "Epoch number 88\n",
      " Current loss 0.001461667474359274\n",
      "\n",
      "Epoch number 89\n",
      " Current loss 0.0015751492464914918\n",
      "\n",
      "Epoch number 90\n",
      " Current loss 0.001495356671512127\n",
      "\n",
      "Epoch number 91\n",
      " Current loss 0.002157525857910514\n",
      "\n",
      "Epoch number 92\n",
      " Current loss 0.0020354646258056164\n",
      "\n",
      "Epoch number 93\n",
      " Current loss 0.001892023952677846\n",
      "\n",
      "Epoch number 94\n",
      " Current loss 0.002098354510962963\n",
      "\n",
      "Epoch number 95\n",
      " Current loss 0.00171757023781538\n",
      "\n",
      "Epoch number 96\n",
      " Current loss 0.0016533407615497708\n",
      "\n",
      "Epoch number 97\n",
      " Current loss 0.001725642243400216\n",
      "\n",
      "Epoch number 98\n",
      " Current loss 0.0013651532353833318\n",
      "\n",
      "Epoch number 99\n",
      " Current loss 0.001659607863985002\n",
      "\n"
     ]
    },
    {
     "data": {
      "image/png": "[encoded data removed]",
      "text/plain": [
       "<Figure size 432x288 with 1 Axes>"
      ]
     },
     "metadata": {
      "needs_background": "light"
     },
     "output_type": "display_data"
    }
   ],
   "source": [
    "for epoch in range(0,Config.train_number_epochs):\n",
    "    for i, data in enumerate(train_dataloader,0):\n",
    "        img0, label = data\n",
    "        img0, label = img0.cuda(), label.cuda()\n",
    "        optimizer.zero_grad()\n",
    "        output1 = model_cnn_fc(img0)\n",
    "        loss_contrastive = criterion(output1,label)\n",
    "        loss_contrastive.backward()\n",
    "        optimizer.step()\n",
    "        if i % 10 == 0 :\n",
    "            print(\"Epoch number {}\\n Current loss {}\\n\".format(epoch,loss_contrastive.item()))\n",
    "            iteration_number +=10\n",
    "            counter.append(iteration_number)\n",
    "            loss_history.append(loss_contrastive.item())\n",
    "show_plot(counter,loss_history)"
   ]
  },
  {
   "cell_type": "markdown",
   "metadata": {},
   "source": [
    "## Testing"
   ]
  },
  {
   "cell_type": "code",
   "execution_count": 41,
   "metadata": {},
   "outputs": [
    {
     "data": {
      "image/png": "[encoded data removed]",
      "text/plain": [
       "<Figure size 432x288 with 1 Axes>"
      ]
     },
     "metadata": {
      "needs_background": "light"
     },
     "output_type": "display_data"
    },
    {
     "name": "stdout",
     "output_type": "stream",
     "text": [
      "GroundTruth:  31\n"
     ]
    },
    {
     "data": {
      "image/png": "[encoded data removed]",
      "text/plain": [
       "<Figure size 432x288 with 1 Axes>"
      ]
     },
     "metadata": {
      "needs_background": "light"
     },
     "output_type": "display_data"
    },
    {
     "name": "stdout",
     "output_type": "stream",
     "text": [
      "GroundTruth:  8\n"
     ]
    },
    {
     "data": {
      "image/png": "[encoded data removed]",
      "text/plain": [
       "<Figure size 432x288 with 1 Axes>"
      ]
     },
     "metadata": {
      "needs_background": "light"
     },
     "output_type": "display_data"
    },
    {
     "name": "stdout",
     "output_type": "stream",
     "text": [
      "GroundTruth:  41\n"
     ]
    },
    {
     "data": {
      "image/png": "[encoded data removed]",
      "text/plain": [
       "<Figure size 432x288 with 1 Axes>"
      ]
     },
     "metadata": {
      "needs_background": "light"
     },
     "output_type": "display_data"
    },
    {
     "name": "stdout",
     "output_type": "stream",
     "text": [
      "GroundTruth:  34\n"
     ]
    },
    {
     "data": {
      "image/png": "[encoded data removed]",
      "text/plain": [
       "<Figure size 432x288 with 1 Axes>"
      ]
     },
     "metadata": {
      "needs_background": "light"
     },
     "output_type": "display_data"
    },
    {
     "name": "stdout",
     "output_type": "stream",
     "text": [
      "GroundTruth:  34\n"
     ]
    }
   ],
   "source": [
    "test_dataloader = DataLoader(test_dataset,num_workers=6,batch_size=1,shuffle=True)\n",
    "dataiter = iter(test_dataloader)\n",
    "\n",
    "for i in range(5):\n",
    "    images, labels = next(dataiter)\n",
    "    # print images\n",
    "    imshow(torchvision.utils.make_grid(images))\n",
    "    print('GroundTruth: ', labels[0].numpy()+4)"
   ]
  },
  {
   "cell_type": "code",
   "execution_count": 42,
   "metadata": {},
   "outputs": [
    {
     "name": "stdout",
     "output_type": "stream",
     "text": [
      "Accuracy of the network on the test images: 95 %\n"
     ]
    }
   ],
   "source": [
    "correct = 0\n",
    "total = 0\n",
    "\n",
    "# since we're not training, we don't need to calculate the gradients for our outputs\n",
    "with torch.no_grad():\n",
    "    for data in test_dataloader:\n",
    "        images, labels = data\n",
    "        images, labels = images.cuda(), labels.cuda()\n",
    "        # calculate outputs by running images through the network\n",
    "        outputs = model_cnn_fc(images)\n",
    "        # the class with the highest energy is what we choose as prediction\n",
    "        _, predicted = torch.max(outputs.data, 1)\n",
    "        total += labels.size(0)\n",
    "        correct += (predicted == labels).sum().item()\n",
    "\n",
    "print('Accuracy of the network on the test images: %d %%' % (\n",
    "    100 * correct / total))"
   ]
  },
  {
   "cell_type": "code",
   "execution_count": null,
   "metadata": {},
   "outputs": [],
   "source": []
  }
 ],
 "metadata": {
  "interpreter": {
   "hash": "c55349359a351a462cc3bd81967acc45131d7a467a70652d02e0e294c2b701fc"
  },
  "kernelspec": {
   "display_name": "Python 3.6.9 64-bit ('pytorch': venv)",
   "language": "python",
   "name": "python3"
  },
  "language_info": {
   "codemirror_mode": {
    "name": "ipython",
    "version": 3
   },
   "file_extension": ".py",
   "mimetype": "text/x-python",
   "name": "python",
   "nbconvert_exporter": "python",
   "pygments_lexer": "ipython3",
   "version": "3.6.9"
  },
  "orig_nbformat": 4
 },
 "nbformat": 4,
 "nbformat_minor": 2
}
